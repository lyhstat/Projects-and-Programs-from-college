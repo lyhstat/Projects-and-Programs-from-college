{
  "cells": [
    {
      "cell_type": "markdown",
      "metadata": {
        "id": "view-in-github",
        "colab_type": "text"
      },
      "source": [
        "<a href=\"https://colab.research.google.com/github/lyhstat/Python_ML/blob/main/NumPy%E5%AF%A6%E4%BD%9C.ipynb\" target=\"_parent\"><img src=\"https://colab.research.google.com/assets/colab-badge.svg\" alt=\"Open In Colab\"/></a>"
      ]
    },
    {
      "cell_type": "markdown",
      "metadata": {
        "id": "PpnW9rnx5A6_"
      },
      "source": [
        "# NumPy 和陣列導向的程式設計\n",
        "\n",
        "`NumPy` 可以說是 Python 中最最標準的科學計算、數據分析套件。也因為 `NumPy` 的出現, 讓 Python 有了非常好的數據分析基礎, 一直到現在成為數據分析覇主。"
      ]
    },
    {
      "cell_type": "code",
      "execution_count": null,
      "metadata": {
        "id": "LgcGuv4D5A7R"
      },
      "outputs": [],
      "source": [
        "import numpy as np"
      ]
    },
    {
      "cell_type": "markdown",
      "metadata": {
        "id": "3dh0Ha0A5A7S"
      },
      "source": [
        "## 1. 陣列導向 101\n",
        "\n",
        "科學計算一個很核心的概念叫 \"array oriented\" 的寫法。Array 是 `numpy` 標準的資料結構, 和 list 很像, 但就差了那麼一點點。而這一點點讓我們在計算上是無比的方便。"
      ]
    },
    {
      "cell_type": "markdown",
      "metadata": {
        "id": "SuJUxXTU5A7U"
      },
      "source": [
        "### 【暖身】 計算平均\n",
        "\n",
        "某位同學期中考各科成績如下, 請幫他計算成績。\n",
        "\n",
        "    grades = [77, 85, 56, 90, 66]\n",
        "    \n",
        "請計算平均。"
      ]
    },
    {
      "cell_type": "code",
      "execution_count": null,
      "metadata": {
        "id": "8rjM_5XL5A7V",
        "outputId": "c92a4fb0-8962-497b-a853-5b897a12724a",
        "colab": {
          "base_uri": "https://localhost:8080/"
        }
      },
      "outputs": [
        {
          "output_type": "stream",
          "name": "stdout",
          "text": [
            "average = 74.80 ,sum=374\n"
          ]
        }
      ],
      "source": [
        "s = 0\n",
        "grades = [77, 85, 56, 90, 66]\n",
        "for i in grades:\n",
        "  s = s+i\n",
        "print(\"average ={0:6.2f} ,sum={1}\".format(s/len(grades),s))"
      ]
    },
    {
      "cell_type": "markdown",
      "metadata": {
        "id": "UxIe-oL85A7W"
      },
      "source": [
        "### 【示範】陣列導向"
      ]
    },
    {
      "cell_type": "code",
      "execution_count": null,
      "metadata": {
        "id": "tFXgiUhJ5A7X",
        "outputId": "e79f63ab-da60-4a81-d907-3d46a1de62ba",
        "colab": {
          "base_uri": "https://localhost:8080/"
        }
      },
      "outputs": [
        {
          "output_type": "execute_result",
          "data": {
            "text/plain": [
              "74.8"
            ]
          },
          "metadata": {},
          "execution_count": 11
        }
      ],
      "source": [
        "grades = [77, 85, 56, 90, 66]\n",
        "arr = np.array(grades)\n",
        "arr.mean()"
      ]
    },
    {
      "cell_type": "markdown",
      "metadata": {
        "id": "ePURiEbx5A7Y"
      },
      "source": [
        "最大值"
      ]
    },
    {
      "cell_type": "code",
      "execution_count": null,
      "metadata": {
        "id": "nZhp0BHH5A7Z",
        "outputId": "967afa97-c3c7-4e3d-d763-9a147f5b73eb",
        "colab": {
          "base_uri": "https://localhost:8080/"
        }
      },
      "outputs": [
        {
          "output_type": "execute_result",
          "data": {
            "text/plain": [
              "90"
            ]
          },
          "metadata": {},
          "execution_count": 12
        }
      ],
      "source": [
        "arr.max()\n"
      ]
    },
    {
      "cell_type": "markdown",
      "metadata": {
        "id": "-IdSjArO5A7a"
      },
      "source": [
        "標準差"
      ]
    },
    {
      "cell_type": "code",
      "execution_count": null,
      "metadata": {
        "id": "voQy9eSE5A7b",
        "outputId": "a0535189-8121-4ce0-84ee-6ba165d1fa52",
        "colab": {
          "base_uri": "https://localhost:8080/"
        }
      },
      "outputs": [
        {
          "output_type": "execute_result",
          "data": {
            "text/plain": [
              "12.416118556135006"
            ]
          },
          "metadata": {},
          "execution_count": 13
        }
      ],
      "source": [
        "arr.std()"
      ]
    },
    {
      "cell_type": "markdown",
      "metadata": {
        "id": "mYiksuto5A7b"
      },
      "source": [
        "### 【暖身】 換算匯率\n",
        "\n",
        "假設今天我想查查號稱 Pentax 三公主的 31mm, 43mm, 77mm 三隻 limited 鏡頭在美國賣多少。於是我去 B&H 查了他們的價格分別是:\n",
        "\n",
        "    prices = [1096.95, 596.95, 896.95]\n",
        "    \n",
        "我又查了 Google 匯率 1 美金為 31.71 元。請把三支鏡頭的價格換算為台幣。"
      ]
    },
    {
      "cell_type": "code",
      "execution_count": null,
      "metadata": {
        "collapsed": true,
        "id": "OPx_yhGc5A7c",
        "colab": {
          "base_uri": "https://localhost:8080/"
        },
        "outputId": "4dc3acd5-4f41-49f5-e33c-df66ce0f3370"
      },
      "outputs": [
        {
          "output_type": "stream",
          "name": "stdout",
          "text": [
            "[34784.2845]\n",
            "[18929.2845]\n",
            "[28442.2845]\n"
          ]
        }
      ],
      "source": [
        "prices = [1096.95, 596.95, 896.95]\n",
        "usd2twd = 31.71\n",
        "for i in prices:\n",
        "  twd_proices = i*usd2twd\n",
        "  print([twd_proices])\n"
      ]
    },
    {
      "cell_type": "markdown",
      "metadata": {
        "id": "7spYanDk5A7d"
      },
      "source": [
        "先不管這實在有夠醜的數字, 我們要記得在科學計算中:\n",
        "\n",
        "### 儘可能不要使用迴圈\n",
        "\n",
        "這可能嗎?"
      ]
    },
    {
      "cell_type": "markdown",
      "metadata": {
        "id": "r-eZK1Co5A7d"
      },
      "source": [
        "### 【示範】陣列換算匯率"
      ]
    },
    {
      "cell_type": "code",
      "execution_count": null,
      "metadata": {
        "id": "TvBj4awW5A7e",
        "outputId": "912977bd-6bc2-4e52-b85d-9b81dc0db746",
        "colab": {
          "base_uri": "https://localhost:8080/"
        }
      },
      "outputs": [
        {
          "output_type": "execute_result",
          "data": {
            "text/plain": [
              "array([34784.2845, 18929.2845, 28442.2845])"
            ]
          },
          "metadata": {},
          "execution_count": 36
        }
      ],
      "source": [
        "prices = [1096.95, 596.95, 896.95]\n",
        "prices = np.array(prices)\n",
        "usd2twd = 31.71\n",
        "prices* usd2twd"
      ]
    },
    {
      "cell_type": "markdown",
      "metadata": {
        "id": "oCPrFq4O5A7e"
      },
      "source": [
        "哦哦, 傑克, 這太神奇了!"
      ]
    },
    {
      "cell_type": "markdown",
      "metadata": {
        "id": "bFNl_sTr5A7f"
      },
      "source": [
        "## 2. 其實 array 還有很多功能\n",
        "\n",
        "### 【練習】 成績計算\n",
        "\n",
        "一位老師成績這樣算的:\n",
        "\n",
        "* 平時成績 20%\n",
        "* 期中考   35%\n",
        "* 期未考   45%\n",
        "\n",
        "有位同學\n",
        "\n",
        "* 平時成績 85 分\n",
        "* 期中 70 分\n",
        "* 期末 80 分\n",
        "\n",
        "這位同學的學期成績是多少?"
      ]
    },
    {
      "cell_type": "code",
      "execution_count": null,
      "metadata": {
        "id": "9Es-yIQg5A7f"
      },
      "outputs": [],
      "source": [
        "grades = np.array([85,70,80])\n",
        "weights = np.array([0.2, 0.35, 0.45])\n"
      ]
    },
    {
      "cell_type": "markdown",
      "metadata": {
        "id": "LcyUIt1c5A7f"
      },
      "source": [
        "這還不是我們要的最終成績啊!"
      ]
    },
    {
      "cell_type": "code",
      "execution_count": null,
      "metadata": {
        "id": "RdkgDfE45A7g",
        "outputId": "678a18f8-eb85-4f5c-db35-f7bd47b77025",
        "colab": {
          "base_uri": "https://localhost:8080/"
        }
      },
      "outputs": [
        {
          "output_type": "execute_result",
          "data": {
            "text/plain": [
              "array([17. , 24.5, 36. ])"
            ]
          },
          "metadata": {},
          "execution_count": 41
        }
      ],
      "source": [
        "grades * weights"
      ]
    },
    {
      "cell_type": "markdown",
      "metadata": {
        "id": "ejsdpa085A7g"
      },
      "source": [
        "### 【提示】 array 還有很多函數可以用\n",
        "\n",
        "可以先打入\n",
        "\n",
        "    weighted_grades.\n",
        "    \n",
        "先不要按 `enter` 或 `shift-enter`, 而是按 `tab`...\n"
      ]
    },
    {
      "cell_type": "code",
      "execution_count": null,
      "metadata": {
        "id": "bGpSQI985A7g",
        "outputId": "0be77424-a211-45de-bab5-628435d125f6",
        "colab": {
          "base_uri": "https://localhost:8080/"
        }
      },
      "outputs": [
        {
          "output_type": "execute_result",
          "data": {
            "text/plain": [
              "77.5"
            ]
          },
          "metadata": {},
          "execution_count": 42
        }
      ],
      "source": [
        "weighted_grades = grades * weights\n",
        "weighted_grades.sum()"
      ]
    },
    {
      "cell_type": "markdown",
      "metadata": {
        "id": "3M8CQUUG5A7h"
      },
      "source": [
        "### 【技巧】 一行完成成績計算"
      ]
    },
    {
      "cell_type": "code",
      "execution_count": null,
      "metadata": {
        "id": "rh4lYKiD5A7h",
        "outputId": "63d99c43-c4d8-488e-d8d9-a80a415541eb",
        "colab": {
          "base_uri": "https://localhost:8080/"
        }
      },
      "outputs": [
        {
          "output_type": "execute_result",
          "data": {
            "text/plain": [
              "77.5"
            ]
          },
          "metadata": {},
          "execution_count": 43
        }
      ],
      "source": [
        "np.dot(grades,weights)"
      ]
    },
    {
      "cell_type": "markdown",
      "metadata": {
        "id": "6LB2E2uX5A7h"
      },
      "source": [
        "## 3. 重要的 array 大變身!\n",
        "\n",
        "我們在數據分析, 常常要改 array 的型式。"
      ]
    },
    {
      "cell_type": "markdown",
      "metadata": {
        "id": "H_VsY06c5A7i"
      },
      "source": [
        "### 【練習】 一個 50 個數字的 array\n",
        "\n",
        "先想辦法、用亂數做出 50 個數字的 array, 叫做 A 好了。"
      ]
    },
    {
      "cell_type": "code",
      "execution_count": null,
      "metadata": {
        "id": "utgIXNWM5A7i",
        "outputId": "fa59777e-ad61-40d5-b9a0-5e20bb8e27e2",
        "colab": {
          "base_uri": "https://localhost:8080/"
        }
      },
      "outputs": [
        {
          "output_type": "execute_result",
          "data": {
            "text/plain": [
              "array([0.8793321 , 0.9148627 , 0.96988576, 0.83438198, 0.1339685 ,\n",
              "       0.75893795, 0.43265222, 0.37963314, 0.51370526, 0.26401824,\n",
              "       0.69288276, 0.56072433, 0.51479361, 0.4387258 , 0.18871423,\n",
              "       0.62419163, 0.47276927, 0.11068376, 0.68643924, 0.68566711,\n",
              "       0.41805762, 0.9596997 , 0.44132529, 0.97841982, 0.01183688,\n",
              "       0.58710638, 0.68577669, 0.73215936, 0.43752318, 0.58172638,\n",
              "       0.19478174, 0.57646609, 0.99207417, 0.79796752, 0.29116069,\n",
              "       0.05654309, 0.88637503, 0.15385608, 0.14195222, 0.75534933,\n",
              "       0.54506762, 0.29527262, 0.22801927, 0.05508647, 0.74207496,\n",
              "       0.65685183, 0.69711066, 0.5752716 , 0.35376369, 0.31837721])"
            ]
          },
          "metadata": {},
          "execution_count": 50
        }
      ],
      "source": [
        "A = np.random.rand(50)\n",
        "A"
      ]
    },
    {
      "cell_type": "code",
      "source": [
        "A[0]"
      ],
      "metadata": {
        "colab": {
          "base_uri": "https://localhost:8080/"
        },
        "id": "MorPPbF_B_ti",
        "outputId": "c6293e92-0775-4b43-86a1-be20e791c45a"
      },
      "execution_count": null,
      "outputs": [
        {
          "output_type": "execute_result",
          "data": {
            "text/plain": [
              "0.8793321033371495"
            ]
          },
          "metadata": {},
          "execution_count": 51
        }
      ]
    },
    {
      "cell_type": "markdown",
      "metadata": {
        "id": "XI48QEne5A7j"
      },
      "source": [
        "### 【技巧】 檢查 A 的 `shape`"
      ]
    },
    {
      "cell_type": "code",
      "execution_count": null,
      "metadata": {
        "id": "JHsmi_eN5A7j",
        "outputId": "9c5bd013-6b02-4125-aa7c-b27e8150d77f",
        "colab": {
          "base_uri": "https://localhost:8080/"
        }
      },
      "outputs": [
        {
          "output_type": "execute_result",
          "data": {
            "text/plain": [
              "(50,)"
            ]
          },
          "metadata": {},
          "execution_count": 52
        }
      ],
      "source": [
        "A.shape"
      ]
    },
    {
      "cell_type": "markdown",
      "metadata": {
        "id": "FTPw8h6U5A7j"
      },
      "source": [
        "### 【技巧】 更改 A 的 shape"
      ]
    },
    {
      "cell_type": "code",
      "execution_count": null,
      "metadata": {
        "id": "20RZKZGC5A7j",
        "outputId": "7d399dac-897c-4469-d219-683e26589057",
        "colab": {
          "base_uri": "https://localhost:8080/"
        }
      },
      "outputs": [
        {
          "output_type": "execute_result",
          "data": {
            "text/plain": [
              "0.8793321033371495"
            ]
          },
          "metadata": {},
          "execution_count": 54
        }
      ],
      "source": [
        "A.shape = (5,10)\n",
        "A[0,0]"
      ]
    },
    {
      "cell_type": "markdown",
      "metadata": {
        "id": "hFJa91Aq5A7k"
      },
      "source": [
        "### 【技巧】 也可以用 `reshape`\n",
        "\n",
        "但要注意, reshape 並沒有改原來的陣列。"
      ]
    },
    {
      "cell_type": "code",
      "execution_count": null,
      "metadata": {
        "id": "CKoGzR2P5A7k",
        "outputId": "2a590c96-b355-4b22-e268-2b210157e93e",
        "colab": {
          "base_uri": "https://localhost:8080/"
        }
      },
      "outputs": [
        {
          "output_type": "execute_result",
          "data": {
            "text/plain": [
              "array([[0.8793321 , 0.9148627 , 0.96988576, 0.83438198, 0.1339685 ],\n",
              "       [0.75893795, 0.43265222, 0.37963314, 0.51370526, 0.26401824],\n",
              "       [0.69288276, 0.56072433, 0.51479361, 0.4387258 , 0.18871423],\n",
              "       [0.62419163, 0.47276927, 0.11068376, 0.68643924, 0.68566711],\n",
              "       [0.41805762, 0.9596997 , 0.44132529, 0.97841982, 0.01183688],\n",
              "       [0.58710638, 0.68577669, 0.73215936, 0.43752318, 0.58172638],\n",
              "       [0.19478174, 0.57646609, 0.99207417, 0.79796752, 0.29116069],\n",
              "       [0.05654309, 0.88637503, 0.15385608, 0.14195222, 0.75534933],\n",
              "       [0.54506762, 0.29527262, 0.22801927, 0.05508647, 0.74207496],\n",
              "       [0.65685183, 0.69711066, 0.5752716 , 0.35376369, 0.31837721]])"
            ]
          },
          "metadata": {},
          "execution_count": 55
        }
      ],
      "source": [
        "A.reshape(10,5)"
      ]
    },
    {
      "cell_type": "markdown",
      "metadata": {
        "id": "etM-s51O5A7k"
      },
      "source": [
        "### 【技巧】 拉平 `ravel`\n",
        "\n",
        "雖然你想一想就知道可以用 `shape` 或 `reshape` 把多維陣列拉成一維。不過用 `ravel` 很潮。"
      ]
    },
    {
      "cell_type": "code",
      "execution_count": null,
      "metadata": {
        "id": "x-rY6ZU-5A7k",
        "outputId": "4341d8c5-a608-43c8-ddf0-9e432181e576",
        "colab": {
          "base_uri": "https://localhost:8080/"
        }
      },
      "outputs": [
        {
          "output_type": "execute_result",
          "data": {
            "text/plain": [
              "array([0.8793321 , 0.9148627 , 0.96988576, 0.83438198, 0.1339685 ,\n",
              "       0.75893795, 0.43265222, 0.37963314, 0.51370526, 0.26401824,\n",
              "       0.69288276, 0.56072433, 0.51479361, 0.4387258 , 0.18871423,\n",
              "       0.62419163, 0.47276927, 0.11068376, 0.68643924, 0.68566711,\n",
              "       0.41805762, 0.9596997 , 0.44132529, 0.97841982, 0.01183688,\n",
              "       0.58710638, 0.68577669, 0.73215936, 0.43752318, 0.58172638,\n",
              "       0.19478174, 0.57646609, 0.99207417, 0.79796752, 0.29116069,\n",
              "       0.05654309, 0.88637503, 0.15385608, 0.14195222, 0.75534933,\n",
              "       0.54506762, 0.29527262, 0.22801927, 0.05508647, 0.74207496,\n",
              "       0.65685183, 0.69711066, 0.5752716 , 0.35376369, 0.31837721])"
            ]
          },
          "metadata": {},
          "execution_count": 57
        }
      ],
      "source": [
        "A.ravel()"
      ]
    },
    {
      "cell_type": "markdown",
      "metadata": {
        "id": "osJQHSwy5A7l"
      },
      "source": [
        "## 4. 快速 array 生成法"
      ]
    },
    {
      "cell_type": "markdown",
      "metadata": {
        "id": "LqUydYJH5A7l"
      },
      "source": [
        "### 【技巧】 都是 0 的 array"
      ]
    },
    {
      "cell_type": "code",
      "execution_count": null,
      "metadata": {
        "id": "OQUEx6Oz5A7l",
        "outputId": "19d6bc6b-cdb0-4143-a8ac-a437d15a8f20",
        "colab": {
          "base_uri": "https://localhost:8080/"
        }
      },
      "outputs": [
        {
          "output_type": "execute_result",
          "data": {
            "text/plain": [
              "array([0., 0., 0., 0., 0., 0., 0., 0., 0., 0.])"
            ]
          },
          "metadata": {},
          "execution_count": 59
        }
      ],
      "source": [
        "np.zeros(10)"
      ]
    },
    {
      "cell_type": "markdown",
      "metadata": {
        "id": "iDsaNeSc5A7l"
      },
      "source": [
        "### 【技巧】 都是 1 的 array"
      ]
    },
    {
      "cell_type": "code",
      "execution_count": null,
      "metadata": {
        "id": "z83HJWj25A7m",
        "outputId": "19311a6a-feba-4b33-9837-1e2ac980fedd",
        "colab": {
          "base_uri": "https://localhost:8080/"
        }
      },
      "outputs": [
        {
          "output_type": "execute_result",
          "data": {
            "text/plain": [
              "array([1., 1., 1., 1., 1., 1., 1., 1., 1., 1.])"
            ]
          },
          "metadata": {},
          "execution_count": 61
        }
      ],
      "source": [
        "np.ones(10)"
      ]
    },
    {
      "cell_type": "markdown",
      "metadata": {
        "id": "IUuvFS4q5A7m"
      },
      "source": [
        "### 【技巧】單位矩陣"
      ]
    },
    {
      "cell_type": "code",
      "execution_count": null,
      "metadata": {
        "id": "uS5j8OrY5A7m",
        "outputId": "4eee4be9-fac1-41d5-b672-8a06fc205e11",
        "colab": {
          "base_uri": "https://localhost:8080/"
        }
      },
      "outputs": [
        {
          "output_type": "execute_result",
          "data": {
            "text/plain": [
              "array([[1., 0., 0., 0., 0.],\n",
              "       [0., 1., 0., 0., 0.],\n",
              "       [0., 0., 1., 0., 0.],\n",
              "       [0., 0., 0., 1., 0.],\n",
              "       [0., 0., 0., 0., 1.]])"
            ]
          },
          "metadata": {},
          "execution_count": 62
        }
      ],
      "source": [
        "np.eye(5)"
      ]
    },
    {
      "cell_type": "markdown",
      "metadata": {
        "id": "lb1bicau5A7m"
      },
      "source": [
        "### 【技巧】給定範圍均勻生出 n 個點"
      ]
    },
    {
      "cell_type": "code",
      "execution_count": null,
      "metadata": {
        "id": "7s7ut3Vy5A7m",
        "outputId": "e1380ff3-6c2c-4a36-bf0e-ef6732cbdbd4",
        "colab": {
          "base_uri": "https://localhost:8080/"
        }
      },
      "outputs": [
        {
          "output_type": "execute_result",
          "data": {
            "text/plain": [
              "array([ 0.        ,  0.1010101 ,  0.2020202 ,  0.3030303 ,  0.4040404 ,\n",
              "        0.50505051,  0.60606061,  0.70707071,  0.80808081,  0.90909091,\n",
              "        1.01010101,  1.11111111,  1.21212121,  1.31313131,  1.41414141,\n",
              "        1.51515152,  1.61616162,  1.71717172,  1.81818182,  1.91919192,\n",
              "        2.02020202,  2.12121212,  2.22222222,  2.32323232,  2.42424242,\n",
              "        2.52525253,  2.62626263,  2.72727273,  2.82828283,  2.92929293,\n",
              "        3.03030303,  3.13131313,  3.23232323,  3.33333333,  3.43434343,\n",
              "        3.53535354,  3.63636364,  3.73737374,  3.83838384,  3.93939394,\n",
              "        4.04040404,  4.14141414,  4.24242424,  4.34343434,  4.44444444,\n",
              "        4.54545455,  4.64646465,  4.74747475,  4.84848485,  4.94949495,\n",
              "        5.05050505,  5.15151515,  5.25252525,  5.35353535,  5.45454545,\n",
              "        5.55555556,  5.65656566,  5.75757576,  5.85858586,  5.95959596,\n",
              "        6.06060606,  6.16161616,  6.26262626,  6.36363636,  6.46464646,\n",
              "        6.56565657,  6.66666667,  6.76767677,  6.86868687,  6.96969697,\n",
              "        7.07070707,  7.17171717,  7.27272727,  7.37373737,  7.47474747,\n",
              "        7.57575758,  7.67676768,  7.77777778,  7.87878788,  7.97979798,\n",
              "        8.08080808,  8.18181818,  8.28282828,  8.38383838,  8.48484848,\n",
              "        8.58585859,  8.68686869,  8.78787879,  8.88888889,  8.98989899,\n",
              "        9.09090909,  9.19191919,  9.29292929,  9.39393939,  9.49494949,\n",
              "        9.5959596 ,  9.6969697 ,  9.7979798 ,  9.8989899 , 10.        ])"
            ]
          },
          "metadata": {},
          "execution_count": 64
        }
      ],
      "source": [
        "x = np.linspace(0,10,100)\n",
        "x"
      ]
    },
    {
      "cell_type": "markdown",
      "metadata": {
        "id": "7f2HlwLJ5A7m"
      },
      "source": [
        "### 【技巧】`range` 的 array 版\n",
        "\n",
        "就是 `arange`。"
      ]
    },
    {
      "cell_type": "code",
      "execution_count": null,
      "metadata": {
        "id": "pmvZhoAH5A7n",
        "outputId": "61afef33-3f1b-4db2-9e50-88f03f711e65",
        "colab": {
          "base_uri": "https://localhost:8080/"
        }
      },
      "outputs": [
        {
          "output_type": "execute_result",
          "data": {
            "text/plain": [
              "array([1. , 1.2, 1.4, 1.6, 1.8, 2. , 2.2, 2.4, 2.6, 2.8, 3. , 3.2, 3.4,\n",
              "       3.6, 3.8, 4. , 4.2, 4.4, 4.6, 4.8, 5. , 5.2, 5.4, 5.6, 5.8, 6. ,\n",
              "       6.2, 6.4, 6.6, 6.8, 7. , 7.2, 7.4, 7.6, 7.8, 8. , 8.2, 8.4, 8.6,\n",
              "       8.8, 9. , 9.2, 9.4, 9.6, 9.8])"
            ]
          },
          "metadata": {},
          "execution_count": 68
        }
      ],
      "source": [
        "np.arange(1,10,0.2)"
      ]
    },
    {
      "cell_type": "markdown",
      "metadata": {
        "id": "p_op-DhV5A7n"
      },
      "source": [
        "## 5. 超重要 `axis` 觀念\n",
        "\n",
        "初學 `numpy` 很多人有點弄不清楚 `axis` 概念。其實掌握矩陣, 或很像矩陣的陣列都是「先列後行」就可以!\n",
        "\n",
        "我們先弄個 array 來練習。"
      ]
    },
    {
      "cell_type": "code",
      "execution_count": null,
      "metadata": {
        "id": "257UBrc_5A7n",
        "outputId": "3b35194c-7256-4791-bb91-4900834ec7cb",
        "colab": {
          "base_uri": "https://localhost:8080/"
        }
      },
      "outputs": [
        {
          "output_type": "execute_result",
          "data": {
            "text/plain": [
              "array([[0, 1, 2, 3, 4],\n",
              "       [5, 6, 7, 8, 9]])"
            ]
          },
          "metadata": {},
          "execution_count": 71
        }
      ],
      "source": [
        "A = np.arange(10).reshape(2,5)\n",
        "A"
      ]
    },
    {
      "cell_type": "markdown",
      "metadata": {
        "id": "uTizPkTn5A7n"
      },
      "source": [
        "### 【重點】 一列一列算下來是 `axis=0`"
      ]
    },
    {
      "cell_type": "markdown",
      "metadata": {
        "id": "NslSwBGm5A7o"
      },
      "source": [
        "![axis=0](images/axis0.png)"
      ]
    },
    {
      "cell_type": "code",
      "execution_count": null,
      "metadata": {
        "id": "yE45O7kF5A7o",
        "outputId": "66b408a9-1d62-4427-ea62-b3fd7ad0a59d",
        "colab": {
          "base_uri": "https://localhost:8080/"
        }
      },
      "outputs": [
        {
          "output_type": "execute_result",
          "data": {
            "text/plain": [
              "array([ 5,  7,  9, 11, 13])"
            ]
          },
          "metadata": {},
          "execution_count": 72
        }
      ],
      "source": [
        "A.sum(axis=0)"
      ]
    },
    {
      "cell_type": "markdown",
      "metadata": {
        "id": "ppzwWtSS5A7o"
      },
      "source": [
        "### 【重點】 一行一行算過去是 `axis=1`\n",
        "\n",
        "![axis=1](images/axis1.png)"
      ]
    },
    {
      "cell_type": "code",
      "execution_count": null,
      "metadata": {
        "id": "oEKJHAGQ5A7o",
        "outputId": "73e50c49-03b2-4368-e37d-e5118ced8e4f",
        "colab": {
          "base_uri": "https://localhost:8080/"
        }
      },
      "outputs": [
        {
          "output_type": "execute_result",
          "data": {
            "text/plain": [
              "array([10, 35])"
            ]
          },
          "metadata": {},
          "execution_count": 73
        }
      ],
      "source": [
        "A.sum(axis=1)"
      ]
    },
    {
      "cell_type": "markdown",
      "metadata": {
        "id": "f60rm-615A7o"
      },
      "source": [
        "### 【提示】當然也有可能全部算"
      ]
    },
    {
      "cell_type": "code",
      "execution_count": null,
      "metadata": {
        "id": "ePYcAh2w5A7o",
        "outputId": "6e643ee2-fc58-4c58-963c-0516aa58f2f0",
        "colab": {
          "base_uri": "https://localhost:8080/"
        }
      },
      "outputs": [
        {
          "output_type": "execute_result",
          "data": {
            "text/plain": [
              "45"
            ]
          },
          "metadata": {},
          "execution_count": 74
        }
      ],
      "source": [
        "A.sum()"
      ]
    },
    {
      "cell_type": "markdown",
      "metadata": {
        "id": "DyjkaFXR5A7p"
      },
      "source": [
        "## 6. array 過濾器\n",
        "\n",
        "篩出我們要的資料, 這樣的技巧非常重要!"
      ]
    },
    {
      "cell_type": "markdown",
      "metadata": {
        "id": "4N2pmUpU5A7p"
      },
      "source": [
        "### 【例子】篩出大於 0 的數\n",
        "\n",
        "我們有個陣列, 想找出大於 0 的數。<br>\n",
        "L = np.array([3, -2, -1, 5, 7, -3])"
      ]
    },
    {
      "cell_type": "code",
      "execution_count": null,
      "metadata": {
        "id": "rHAqb2-G5A7p"
      },
      "outputs": [],
      "source": [
        "L = np.array([3, -2, -1, 5, 7, -3])"
      ]
    },
    {
      "cell_type": "markdown",
      "metadata": {
        "id": "A0TRnQKu5A7p"
      },
      "source": [
        "我們可以很白痴的自己判斷...<br>\n",
        "c = np.array([True,False,False,True,True,False])"
      ]
    },
    {
      "cell_type": "code",
      "execution_count": null,
      "metadata": {
        "id": "7z5PDqUJ5A7p"
      },
      "outputs": [],
      "source": [
        "c = np.array([True,False,False,True,True,False])"
      ]
    },
    {
      "cell_type": "markdown",
      "metadata": {
        "id": "yS8voxhg5A7p"
      },
      "source": [
        "這是做啥呢? 我們可以瞬間..."
      ]
    },
    {
      "cell_type": "code",
      "execution_count": null,
      "metadata": {
        "id": "9QNHNjZt5A7q",
        "outputId": "5579fa0f-4261-4189-e263-f7efe45348b0",
        "colab": {
          "base_uri": "https://localhost:8080/"
        }
      },
      "outputs": [
        {
          "output_type": "execute_result",
          "data": {
            "text/plain": [
              "array([3, 5, 7])"
            ]
          },
          "metadata": {},
          "execution_count": 77
        }
      ],
      "source": [
        "L[c]"
      ]
    },
    {
      "cell_type": "markdown",
      "metadata": {
        "id": "8Ig-VU8Z5A7q"
      },
      "source": [
        "除了自己做很白痴, 這看來很厲害!"
      ]
    },
    {
      "cell_type": "markdown",
      "metadata": {
        "id": "gGTgKwH45A7q"
      },
      "source": [
        "事實上我們可以叫 `numpy` 做!"
      ]
    },
    {
      "cell_type": "code",
      "execution_count": null,
      "metadata": {
        "id": "5kLcTrrd5A7q",
        "outputId": "1e003250-b5cb-4c87-d1f7-cb4dca23651a",
        "colab": {
          "base_uri": "https://localhost:8080/"
        }
      },
      "outputs": [
        {
          "output_type": "execute_result",
          "data": {
            "text/plain": [
              "array([ True, False, False,  True,  True, False])"
            ]
          },
          "metadata": {},
          "execution_count": 78
        }
      ],
      "source": [
        "L>0"
      ]
    },
    {
      "cell_type": "markdown",
      "metadata": {
        "id": "ddlb3HPR5A7q"
      },
      "source": [
        "這有點強, 我們還可以一次到位!"
      ]
    },
    {
      "cell_type": "code",
      "execution_count": null,
      "metadata": {
        "scrolled": true,
        "id": "aOuRSTkE5A7q",
        "outputId": "eb6de57d-7893-40b6-b2bf-d3c2bcb0649b",
        "colab": {
          "base_uri": "https://localhost:8080/"
        }
      },
      "outputs": [
        {
          "output_type": "execute_result",
          "data": {
            "text/plain": [
              "array([3, 5, 7])"
            ]
          },
          "metadata": {},
          "execution_count": 79
        }
      ],
      "source": [
        "L = L[L>0]\n",
        "L"
      ]
    },
    {
      "cell_type": "markdown",
      "metadata": {
        "id": "0CfCbsIb5A7q"
      },
      "source": [
        "## 7. 次元切割刀\n",
        "\n",
        "`numpy` 中 array 的切割法和 list 很像。"
      ]
    },
    {
      "cell_type": "code",
      "execution_count": null,
      "metadata": {
        "id": "xjcaPu3m5A7q",
        "outputId": "ee5c27b7-8b27-4597-d07b-e44c2c5f242b",
        "colab": {
          "base_uri": "https://localhost:8080/"
        }
      },
      "outputs": [
        {
          "output_type": "execute_result",
          "data": {
            "text/plain": [
              "array([0, 1, 2, 3, 4, 5, 6, 7, 8, 9])"
            ]
          },
          "metadata": {},
          "execution_count": 80
        }
      ],
      "source": [
        "x = np.arange(10)\n",
        "x"
      ]
    },
    {
      "cell_type": "code",
      "execution_count": null,
      "metadata": {
        "id": "92A5Ngx45A7r",
        "outputId": "e4506766-3065-491a-8bd7-5c2dffade298",
        "colab": {
          "base_uri": "https://localhost:8080/"
        }
      },
      "outputs": [
        {
          "output_type": "execute_result",
          "data": {
            "text/plain": [
              "array([3, 4, 5, 6])"
            ]
          },
          "metadata": {},
          "execution_count": 81
        }
      ],
      "source": [
        "x[3:7]"
      ]
    },
    {
      "cell_type": "markdown",
      "metadata": {
        "id": "8He7rqEs5A7r"
      },
      "source": [
        "### 【技巧】2維陣列切法\n",
        "\n",
        "記得先列後行!"
      ]
    },
    {
      "cell_type": "code",
      "execution_count": null,
      "metadata": {
        "id": "aU7t-cHa5A7r",
        "outputId": "9b62ad56-9946-4f30-c633-0b02a6575329",
        "colab": {
          "base_uri": "https://localhost:8080/"
        }
      },
      "outputs": [
        {
          "output_type": "execute_result",
          "data": {
            "text/plain": [
              "array([[0, 1, 2, 3, 4],\n",
              "       [5, 6, 7, 8, 9]])"
            ]
          },
          "metadata": {},
          "execution_count": 84
        }
      ],
      "source": [
        "x.shape=(2,5)\n",
        "x"
      ]
    },
    {
      "cell_type": "markdown",
      "metadata": {
        "id": "vUaa82DJ5A7r"
      },
      "source": [
        "要所有的row, 切出行 1-3 位置。"
      ]
    },
    {
      "cell_type": "code",
      "execution_count": null,
      "metadata": {
        "id": "WHEO74ge5A7r",
        "outputId": "587d7096-0fd9-48e3-87d4-8efa6f1d31e9",
        "colab": {
          "base_uri": "https://localhost:8080/"
        }
      },
      "outputs": [
        {
          "output_type": "execute_result",
          "data": {
            "text/plain": [
              "array([[1, 2],\n",
              "       [6, 7]])"
            ]
          },
          "metadata": {},
          "execution_count": 85
        }
      ],
      "source": [
        "x[:,1:3]"
      ]
    },
    {
      "cell_type": "markdown",
      "metadata": {
        "id": "tEGvjP0J5A7r"
      },
      "source": [
        "要所有的行col, 切出第 1 列row!"
      ]
    },
    {
      "cell_type": "code",
      "execution_count": null,
      "metadata": {
        "id": "CbWSGdER5A7r",
        "outputId": "0732f156-0cbf-44ca-bd3c-e02468d1a4f0",
        "colab": {
          "base_uri": "https://localhost:8080/"
        }
      },
      "outputs": [
        {
          "output_type": "execute_result",
          "data": {
            "text/plain": [
              "array([5, 6, 7, 8, 9])"
            ]
          },
          "metadata": {},
          "execution_count": 86
        }
      ],
      "source": [
        "x[1,:]"
      ]
    },
    {
      "cell_type": "markdown",
      "metadata": {
        "id": "C3F25lOF5A7r"
      },
      "source": [
        "## 8. `NumPy` 的 `zip` 和 `unzip`"
      ]
    },
    {
      "cell_type": "markdown",
      "metadata": {
        "id": "E1dDah1X5A7s"
      },
      "source": [
        "之前我們介紹 list 可以用 `zip` 和 `unzip` (其實還是 `zip`) 做到的資料格式變換, 在 array 中怎麼做呢?\n",
        "\n",
        "![zip and unzip](images/zip.png)"
      ]
    },
    {
      "cell_type": "markdown",
      "metadata": {
        "id": "rAZ-g0Zl5A7s"
      },
      "source": [
        "### 【重點】array 的 `zip`\n",
        "\n",
        "![array zip](images/arrzip.png)"
      ]
    },
    {
      "cell_type": "code",
      "execution_count": null,
      "metadata": {
        "id": "UmFbuGZY5A7s"
      },
      "outputs": [],
      "source": [
        "x = np.array([1,2,3,4])\n",
        "y = np.array([5,6,7,8])"
      ]
    },
    {
      "cell_type": "code",
      "execution_count": null,
      "metadata": {
        "id": "rnsl1LcH5A7s",
        "outputId": "f832c301-7b85-47d9-8604-bb1e035a1389",
        "colab": {
          "base_uri": "https://localhost:8080/"
        }
      },
      "outputs": [
        {
          "output_type": "execute_result",
          "data": {
            "text/plain": [
              "array([[1, 5],\n",
              "       [2, 6],\n",
              "       [3, 7],\n",
              "       [4, 8]])"
            ]
          },
          "metadata": {},
          "execution_count": 88
        }
      ],
      "source": [
        "X = np.c_[x,y]\n",
        "X"
      ]
    },
    {
      "cell_type": "code",
      "execution_count": null,
      "metadata": {
        "id": "pyzDA8aD5A7s",
        "outputId": "6db8b980-2b3c-4f75-d412-2484ed7083e6",
        "colab": {
          "base_uri": "https://localhost:8080/"
        }
      },
      "outputs": [
        {
          "output_type": "execute_result",
          "data": {
            "text/plain": [
              "array([1, 2, 3, 4, 5, 6, 7, 8])"
            ]
          },
          "metadata": {},
          "execution_count": 90
        }
      ],
      "source": [
        "Y = np.r_[x,y]\n",
        "Y"
      ]
    },
    {
      "cell_type": "markdown",
      "metadata": {
        "id": "mk5epEqj5A7t"
      },
      "source": [
        "### 【重點】array 的 `unzip`\n",
        "\n",
        "這裡其實只需要用到 array 的切割法...\n",
        "\n",
        "![array zip](images/arrunzip.png)"
      ]
    },
    {
      "cell_type": "code",
      "execution_count": null,
      "metadata": {
        "collapsed": true,
        "id": "2G9K3fxA5A7t",
        "colab": {
          "base_uri": "https://localhost:8080/"
        },
        "outputId": "11aabdf1-8bb8-4fd1-ca2a-5415b10a8b94"
      },
      "outputs": [
        {
          "output_type": "execute_result",
          "data": {
            "text/plain": [
              "array([1, 2, 3, 4])"
            ]
          },
          "metadata": {},
          "execution_count": 91
        }
      ],
      "source": [
        "X[:,0]"
      ]
    },
    {
      "cell_type": "code",
      "source": [
        "X[:,1]"
      ],
      "metadata": {
        "colab": {
          "base_uri": "https://localhost:8080/"
        },
        "id": "dl0cr-pOHaRa",
        "outputId": "58deaba9-40bc-4a5c-82fe-b1dd480e2fa0"
      },
      "execution_count": null,
      "outputs": [
        {
          "output_type": "execute_result",
          "data": {
            "text/plain": [
              "array([5, 6, 7, 8])"
            ]
          },
          "metadata": {},
          "execution_count": 92
        }
      ]
    },
    {
      "cell_type": "code",
      "source": [],
      "metadata": {
        "id": "L237FUNGHdUK"
      },
      "execution_count": null,
      "outputs": []
    }
  ],
  "metadata": {
    "kernelspec": {
      "display_name": "Python 3",
      "language": "python",
      "name": "python3"
    },
    "language_info": {
      "codemirror_mode": {
        "name": "ipython",
        "version": 3
      },
      "file_extension": ".py",
      "mimetype": "text/x-python",
      "name": "python",
      "nbconvert_exporter": "python",
      "pygments_lexer": "ipython3",
      "version": "3.8.8"
    },
    "colab": {
      "provenance": [],
      "include_colab_link": true
    }
  },
  "nbformat": 4,
  "nbformat_minor": 0
}
