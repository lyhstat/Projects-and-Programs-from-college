{
  "nbformat": 4,
  "nbformat_minor": 0,
  "metadata": {
    "colab": {
      "provenance": [],
      "authorship_tag": "ABX9TyNOXwY7r9nMPI36yNpZaKgf",
      "include_colab_link": true
    },
    "kernelspec": {
      "name": "python3",
      "display_name": "Python 3"
    },
    "language_info": {
      "name": "python"
    }
  },
  "cells": [
    {
      "cell_type": "markdown",
      "metadata": {
        "id": "view-in-github",
        "colab_type": "text"
      },
      "source": [
        "<a href=\"https://colab.research.google.com/github/lyhstat/Python_ML/blob/main/NumPy.ipynb\" target=\"_parent\"><img src=\"https://colab.research.google.com/assets/colab-badge.svg\" alt=\"Open In Colab\"/></a>"
      ]
    },
    {
      "cell_type": "markdown",
      "source": [
        "**Numpy**"
      ],
      "metadata": {
        "id": "5K0DfveKczDr"
      }
    },
    {
      "cell_type": "code",
      "execution_count": null,
      "metadata": {
        "id": "dzROmAp_9Ber"
      },
      "outputs": [],
      "source": [
        "import numpy as np"
      ]
    },
    {
      "cell_type": "code",
      "source": [
        "#陣列\n",
        "a0 = np.arange(5)\n",
        "print(a0)\n",
        "a1 = np.arange(1,6,2)\n",
        "print(a1)\n",
        "a = np.array([1,2,3])\n",
        "print(a)\n",
        "b = np.array([(1.5,2,3), (4,5,6)], dtype = float)\n",
        "print(b)\n",
        "c = np.array([[(1.5,2,3), (4,5,6)], [(3,2,1), (4,5,6)]], dtype = float)\n",
        "print(c)"
      ],
      "metadata": {
        "id": "lXlK6223-FD4",
        "colab": {
          "base_uri": "https://localhost:8080/"
        },
        "outputId": "631d4ac0-d2ed-433f-d19e-bf2db3fc61a4"
      },
      "execution_count": null,
      "outputs": [
        {
          "output_type": "stream",
          "name": "stdout",
          "text": [
            "[0 1 2 3 4]\n",
            "[1 3 5]\n",
            "[1 2 3]\n",
            "[[1.5 2.  3. ]\n",
            " [4.  5.  6. ]]\n",
            "[[[1.5 2.  3. ]\n",
            "  [4.  5.  6. ]]\n",
            "\n",
            " [[3.  2.  1. ]\n",
            "  [4.  5.  6. ]]]\n"
          ]
        }
      ]
    },
    {
      "cell_type": "code",
      "source": [
        "a2 = np.zeros(2)\n",
        "print(a2)\n",
        "a3 = np.zeros((3,4))\n",
        "print(a3)\n",
        "a4 = np.ones((2,3,4),dtype=np.int16)\n",
        "print(a4)\n",
        "a5 = np.linspace(0,2,9) #evenly spaced values\n",
        "print(a5)\n",
        "d = np.random.random((2,2)) #array with random values\n",
        "print(d)\n",
        "e = np.full((2,2),7) #Constant array\n",
        "print(e)\n",
        "f = np.eye(2) #I2X2 identity matrix\n",
        "print(f)"
      ],
      "metadata": {
        "colab": {
          "base_uri": "https://localhost:8080/"
        },
        "id": "YzKAhwyEf5JD",
        "outputId": "5a194f18-a634-4942-d4b2-2be047910166"
      },
      "execution_count": null,
      "outputs": [
        {
          "output_type": "stream",
          "name": "stdout",
          "text": [
            "[0. 0.]\n",
            "[[0. 0. 0. 0.]\n",
            " [0. 0. 0. 0.]\n",
            " [0. 0. 0. 0.]]\n",
            "[[[1 1 1 1]\n",
            "  [1 1 1 1]\n",
            "  [1 1 1 1]]\n",
            "\n",
            " [[1 1 1 1]\n",
            "  [1 1 1 1]\n",
            "  [1 1 1 1]]]\n",
            "[0.   0.25 0.5  0.75 1.   1.25 1.5  1.75 2.  ]\n",
            "[[0.77663918 0.79413581]\n",
            " [0.57776616 0.35548254]]\n",
            "[[7 7]\n",
            " [7 7]]\n",
            "[[1. 0.]\n",
            " [0. 1.]]\n"
          ]
        }
      ]
    },
    {
      "cell_type": "code",
      "source": [
        "a.shape #Array dimensions"
      ],
      "metadata": {
        "colab": {
          "base_uri": "https://localhost:8080/"
        },
        "id": "IxcTnau5lnsC",
        "outputId": "08abd151-a283-46d8-d7fc-b1e5c9b8fc3f"
      },
      "execution_count": null,
      "outputs": [
        {
          "output_type": "execute_result",
          "data": {
            "text/plain": [
              "(3,)"
            ]
          },
          "metadata": {},
          "execution_count": 113
        }
      ]
    },
    {
      "cell_type": "code",
      "source": [
        "len(a) #Length of array"
      ],
      "metadata": {
        "colab": {
          "base_uri": "https://localhost:8080/"
        },
        "id": "IXKKVOcknO13",
        "outputId": "8e210733-814a-4724-99fb-b4e8fbb6f317"
      },
      "execution_count": null,
      "outputs": [
        {
          "output_type": "execute_result",
          "data": {
            "text/plain": [
              "3"
            ]
          },
          "metadata": {},
          "execution_count": 52
        }
      ]
    },
    {
      "cell_type": "code",
      "source": [
        "b.ndim #Number of array dimensions"
      ],
      "metadata": {
        "colab": {
          "base_uri": "https://localhost:8080/"
        },
        "id": "GNjSa0y4m-_f",
        "outputId": "610337e8-fcd5-4510-d622-5d38a028e080"
      },
      "execution_count": null,
      "outputs": [
        {
          "output_type": "execute_result",
          "data": {
            "text/plain": [
              "2"
            ]
          },
          "metadata": {},
          "execution_count": 53
        }
      ]
    },
    {
      "cell_type": "code",
      "source": [
        "e.size #Number of array elements"
      ],
      "metadata": {
        "colab": {
          "base_uri": "https://localhost:8080/"
        },
        "id": "UcblQmxCnWvd",
        "outputId": "757084c4-a3f6-404c-d1bc-b2e509d9de8a"
      },
      "execution_count": null,
      "outputs": [
        {
          "output_type": "execute_result",
          "data": {
            "text/plain": [
              "4"
            ]
          },
          "metadata": {},
          "execution_count": 54
        }
      ]
    },
    {
      "cell_type": "code",
      "source": [
        "b.dtype #Data type of array elements"
      ],
      "metadata": {
        "colab": {
          "base_uri": "https://localhost:8080/"
        },
        "id": "9rPz_eXpnZvW",
        "outputId": "40228160-d89b-4b7f-9744-3eb7752fd6e7"
      },
      "execution_count": null,
      "outputs": [
        {
          "output_type": "execute_result",
          "data": {
            "text/plain": [
              "dtype('float64')"
            ]
          },
          "metadata": {},
          "execution_count": 55
        }
      ]
    },
    {
      "cell_type": "code",
      "source": [
        "b.dtype.name #Name of data type"
      ],
      "metadata": {
        "colab": {
          "base_uri": "https://localhost:8080/",
          "height": 36
        },
        "id": "0nQisBAUnbe8",
        "outputId": "970bd415-5de1-4cd0-86c3-2f92fb36d941"
      },
      "execution_count": null,
      "outputs": [
        {
          "output_type": "execute_result",
          "data": {
            "text/plain": [
              "'float64'"
            ],
            "application/vnd.google.colaboratory.intrinsic+json": {
              "type": "string"
            }
          },
          "metadata": {},
          "execution_count": 56
        }
      ]
    },
    {
      "cell_type": "code",
      "source": [
        "g = a - b #np.subtract(a,b)\n",
        "g"
      ],
      "metadata": {
        "colab": {
          "base_uri": "https://localhost:8080/"
        },
        "id": "t_EMd4lVn7x1",
        "outputId": "3e90124a-a099-4f68-bee7-46b12b58370d"
      },
      "execution_count": null,
      "outputs": [
        {
          "output_type": "execute_result",
          "data": {
            "text/plain": [
              "array([[-0.5,  0. ,  0. ],\n",
              "       [-3. , -3. , -3. ]])"
            ]
          },
          "metadata": {},
          "execution_count": 57
        }
      ]
    },
    {
      "cell_type": "code",
      "source": [
        "a + b #np.add(a,b)\n",
        "a / b #np.divide(a,b)\n",
        "a * b #np.multiply(a,b)\n",
        "np.exp(b)\n",
        "np.sqrt(b)\n",
        "np.sin(a)\n",
        "np.cos(b)\n",
        "np.log(a)\n",
        "e.dot(f) #e @ f 內積"
      ],
      "metadata": {
        "colab": {
          "base_uri": "https://localhost:8080/"
        },
        "id": "HCptf9Ton775",
        "outputId": "16513aed-52ff-4189-bbd5-8c3f9a5f40b1"
      },
      "execution_count": null,
      "outputs": [
        {
          "output_type": "execute_result",
          "data": {
            "text/plain": [
              "array([[7., 7.],\n",
              "       [7., 7.]])"
            ]
          },
          "metadata": {},
          "execution_count": 63
        }
      ]
    },
    {
      "cell_type": "code",
      "source": [
        "a==2"
      ],
      "metadata": {
        "colab": {
          "base_uri": "https://localhost:8080/"
        },
        "id": "OTwQvH3Zqdoe",
        "outputId": "37715058-792f-483c-cc2c-d55ae248696f"
      },
      "execution_count": null,
      "outputs": [
        {
          "output_type": "execute_result",
          "data": {
            "text/plain": [
              "array([False,  True, False])"
            ]
          },
          "metadata": {},
          "execution_count": 64
        }
      ]
    },
    {
      "cell_type": "code",
      "source": [
        "a<2"
      ],
      "metadata": {
        "colab": {
          "base_uri": "https://localhost:8080/"
        },
        "id": "HrD2isXUrUXe",
        "outputId": "9709ff2c-6545-4051-9fb2-fb3a2ea1b1f1"
      },
      "execution_count": null,
      "outputs": [
        {
          "output_type": "execute_result",
          "data": {
            "text/plain": [
              "array([ True, False, False])"
            ]
          },
          "metadata": {},
          "execution_count": 66
        }
      ]
    },
    {
      "cell_type": "code",
      "source": [
        "a.sum()\n",
        "a.min()\n",
        "b.max(axis=0) #Maximum value of an array row\n",
        "b.cumsum(axis=1) #Cumulative sum of the elements 累加\n",
        "a.mean()\n",
        "b.median()\n",
        "a.corrcoef()\n",
        "np.std(b)"
      ],
      "metadata": {
        "id": "1cqVprIirYDW"
      },
      "execution_count": null,
      "outputs": []
    },
    {
      "cell_type": "code",
      "source": [
        "h = a.view()\n",
        "np.copy(a)\n",
        "h = a.copy()\n",
        "h"
      ],
      "metadata": {
        "colab": {
          "base_uri": "https://localhost:8080/"
        },
        "id": "-IkEiT_7sK8a",
        "outputId": "1a9985ad-04bb-4313-e87c-c6839affc51a"
      },
      "execution_count": null,
      "outputs": [
        {
          "output_type": "execute_result",
          "data": {
            "text/plain": [
              "array([1, 2, 3])"
            ]
          },
          "metadata": {},
          "execution_count": 73
        }
      ]
    },
    {
      "cell_type": "code",
      "source": [
        "a.sort()\n",
        "c.sort(axis=0)\n",
        "a6=np.array([(3,2,9),(5,8,6)])\n",
        "a6.sort(axis=0)\n",
        "a6"
      ],
      "metadata": {
        "colab": {
          "base_uri": "https://localhost:8080/"
        },
        "id": "eI9XkDV3sK_K",
        "outputId": "174f4352-dd8b-4f35-8022-3a33c0398456"
      },
      "execution_count": null,
      "outputs": [
        {
          "output_type": "execute_result",
          "data": {
            "text/plain": [
              "array([[3, 2, 6],\n",
              "       [5, 8, 9]])"
            ]
          },
          "metadata": {},
          "execution_count": 108
        }
      ]
    },
    {
      "cell_type": "code",
      "source": [
        "a[2]"
      ],
      "metadata": {
        "colab": {
          "base_uri": "https://localhost:8080/"
        },
        "id": "RWch78d9twGG",
        "outputId": "a749b059-36e3-414a-d5c6-14a68cbd314e"
      },
      "execution_count": null,
      "outputs": [
        {
          "output_type": "execute_result",
          "data": {
            "text/plain": [
              "3"
            ]
          },
          "metadata": {},
          "execution_count": 86
        }
      ]
    },
    {
      "cell_type": "code",
      "source": [
        "b[1,2]"
      ],
      "metadata": {
        "colab": {
          "base_uri": "https://localhost:8080/"
        },
        "id": "YuYNy-M3twZX",
        "outputId": "e22540f2-495e-4e7d-9b0e-2539967264f0"
      },
      "execution_count": null,
      "outputs": [
        {
          "output_type": "execute_result",
          "data": {
            "text/plain": [
              "6.0"
            ]
          },
          "metadata": {},
          "execution_count": 87
        }
      ]
    },
    {
      "cell_type": "code",
      "source": [
        "a[0:2] #0 到索引 2（不包括 2）"
      ],
      "metadata": {
        "colab": {
          "base_uri": "https://localhost:8080/"
        },
        "id": "4rneCCetuDW6",
        "outputId": "8888858f-d8ab-4d21-bdc1-4fe29f49278b"
      },
      "execution_count": null,
      "outputs": [
        {
          "output_type": "execute_result",
          "data": {
            "text/plain": [
              "array([1, 2])"
            ]
          },
          "metadata": {},
          "execution_count": 88
        }
      ]
    },
    {
      "cell_type": "code",
      "source": [
        "b[0:2,1]"
      ],
      "metadata": {
        "colab": {
          "base_uri": "https://localhost:8080/"
        },
        "id": "2SijGg49t5R6",
        "outputId": "bea46284-c114-4689-fb09-759ccec6d517"
      },
      "execution_count": null,
      "outputs": [
        {
          "output_type": "execute_result",
          "data": {
            "text/plain": [
              "array([2., 5.])"
            ]
          },
          "metadata": {},
          "execution_count": 89
        }
      ]
    },
    {
      "cell_type": "code",
      "source": [
        "b[:1] #第一列 b[0:1, :]"
      ],
      "metadata": {
        "colab": {
          "base_uri": "https://localhost:8080/"
        },
        "id": "MYeHquASuyFC",
        "outputId": "454f6ca5-e21c-4839-eda1-88952d7e32af"
      },
      "execution_count": null,
      "outputs": [
        {
          "output_type": "execute_result",
          "data": {
            "text/plain": [
              "array([[1.5, 2. , 3. ]])"
            ]
          },
          "metadata": {},
          "execution_count": 91
        }
      ]
    },
    {
      "cell_type": "code",
      "source": [
        "c.sort(axis=0)\n",
        "c"
      ],
      "metadata": {
        "colab": {
          "base_uri": "https://localhost:8080/"
        },
        "id": "5EH1okSkwYZq",
        "outputId": "137ff6a1-1b00-4d6c-dd50-a4d86af93bf4"
      },
      "execution_count": null,
      "outputs": [
        {
          "output_type": "execute_result",
          "data": {
            "text/plain": [
              "array([[[1.5, 2. , 1. ],\n",
              "        [4. , 5. , 6. ]],\n",
              "\n",
              "       [[3. , 2. , 3. ],\n",
              "        [4. , 5. , 6. ]]])"
            ]
          },
          "metadata": {},
          "execution_count": 114
        }
      ]
    },
    {
      "cell_type": "code",
      "source": [
        "c[1,...] # [1,:,:]"
      ],
      "metadata": {
        "colab": {
          "base_uri": "https://localhost:8080/"
        },
        "id": "E8hoYpzPuyI2",
        "outputId": "84869e80-74c4-4b56-8e2a-07f55aeb93eb"
      },
      "execution_count": null,
      "outputs": [
        {
          "output_type": "execute_result",
          "data": {
            "text/plain": [
              "array([[3., 2., 3.],\n",
              "       [4., 5., 6.]])"
            ]
          },
          "metadata": {},
          "execution_count": 115
        }
      ]
    },
    {
      "cell_type": "code",
      "source": [
        "a[ : :-1]  #反矩陣"
      ],
      "metadata": {
        "colab": {
          "base_uri": "https://localhost:8080/"
        },
        "id": "5dbBLNhawX69",
        "outputId": "fcc273ae-a548-4b04-c6b8-e6185b6df3d3"
      },
      "execution_count": null,
      "outputs": [
        {
          "output_type": "execute_result",
          "data": {
            "text/plain": [
              "array([3, 2, 1])"
            ]
          },
          "metadata": {},
          "execution_count": 116
        }
      ]
    },
    {
      "cell_type": "code",
      "source": [
        "a[a<2]"
      ],
      "metadata": {
        "colab": {
          "base_uri": "https://localhost:8080/"
        },
        "id": "Hzc78LZIuyME",
        "outputId": "afa2a7f9-71ed-40ea-854d-9979635cddcd"
      },
      "execution_count": null,
      "outputs": [
        {
          "output_type": "execute_result",
          "data": {
            "text/plain": [
              "array([1])"
            ]
          },
          "metadata": {},
          "execution_count": 117
        }
      ]
    },
    {
      "cell_type": "code",
      "source": [
        "b[[1, 0, 1, 0],[0, 1, 2, 0]]"
      ],
      "metadata": {
        "colab": {
          "base_uri": "https://localhost:8080/"
        },
        "id": "2HvV3j5hx5cG",
        "outputId": "f523b237-8917-4d8e-eebb-97da588a19f2"
      },
      "execution_count": null,
      "outputs": [
        {
          "output_type": "execute_result",
          "data": {
            "text/plain": [
              "array([4. , 2. , 6. , 1.5])"
            ]
          },
          "metadata": {},
          "execution_count": 118
        }
      ]
    },
    {
      "cell_type": "code",
      "source": [
        "i = np.transpose(b) #反矩陣\n",
        "i"
      ],
      "metadata": {
        "colab": {
          "base_uri": "https://localhost:8080/"
        },
        "id": "kBgkogPTx5mV",
        "outputId": "1e08caff-9cd3-4ee3-8120-46fb18fc5e2c"
      },
      "execution_count": null,
      "outputs": [
        {
          "output_type": "execute_result",
          "data": {
            "text/plain": [
              "array([[1.5, 4. ],\n",
              "       [2. , 5. ],\n",
              "       [3. , 6. ]])"
            ]
          },
          "metadata": {},
          "execution_count": 121
        }
      ]
    },
    {
      "cell_type": "code",
      "source": [
        "i.T  #轉置"
      ],
      "metadata": {
        "colab": {
          "base_uri": "https://localhost:8080/"
        },
        "id": "AUzDK6Rpx5p4",
        "outputId": "b55eb0a8-42b4-419c-db06-d01d4f53c1e9"
      },
      "execution_count": null,
      "outputs": [
        {
          "output_type": "execute_result",
          "data": {
            "text/plain": [
              "array([[1.5, 2. , 3. ],\n",
              "       [4. , 5. , 6. ]])"
            ]
          },
          "metadata": {},
          "execution_count": 122
        }
      ]
    },
    {
      "cell_type": "code",
      "source": [
        "b.ravel()  #Flatten the array"
      ],
      "metadata": {
        "colab": {
          "base_uri": "https://localhost:8080/"
        },
        "id": "KtsF2PPv0yO6",
        "outputId": "94936fbb-7b37-4a59-df48-0bbfa962d1b4"
      },
      "execution_count": null,
      "outputs": [
        {
          "output_type": "execute_result",
          "data": {
            "text/plain": [
              "array([1.5, 2. , 3. , 4. , 5. , 6. ])"
            ]
          },
          "metadata": {},
          "execution_count": 123
        }
      ]
    },
    {
      "cell_type": "code",
      "source": [
        "g"
      ],
      "metadata": {
        "colab": {
          "base_uri": "https://localhost:8080/"
        },
        "id": "i3gpoyD01d3w",
        "outputId": "21ebb17d-d12d-404d-fdf3-1d0f4ffd50e6"
      },
      "execution_count": null,
      "outputs": [
        {
          "output_type": "execute_result",
          "data": {
            "text/plain": [
              "array([[-0.5,  0. ,  0. ],\n",
              "       [-3. , -3. , -3. ]])"
            ]
          },
          "metadata": {},
          "execution_count": 125
        }
      ]
    },
    {
      "cell_type": "code",
      "source": [
        "g.reshape(3,-2)"
      ],
      "metadata": {
        "colab": {
          "base_uri": "https://localhost:8080/"
        },
        "id": "oSrDE8nJ0yUS",
        "outputId": "30ce54ab-1877-4bfc-96fa-a0863cd32f25"
      },
      "execution_count": null,
      "outputs": [
        {
          "output_type": "execute_result",
          "data": {
            "text/plain": [
              "array([[-0.5,  0. ],\n",
              "       [ 0. , -3. ],\n",
              "       [-3. , -3. ]])"
            ]
          },
          "metadata": {},
          "execution_count": 124
        }
      ]
    },
    {
      "cell_type": "code",
      "source": [
        "h"
      ],
      "metadata": {
        "colab": {
          "base_uri": "https://localhost:8080/"
        },
        "id": "vmKeEJuB2PRR",
        "outputId": "4f776821-c083-47c1-ca8b-d39115fbdc65"
      },
      "execution_count": null,
      "outputs": [
        {
          "output_type": "execute_result",
          "data": {
            "text/plain": [
              "array([1, 2, 3])"
            ]
          },
          "metadata": {},
          "execution_count": 131
        }
      ]
    },
    {
      "cell_type": "code",
      "source": [
        "np.append(h,g)  #附加"
      ],
      "metadata": {
        "colab": {
          "base_uri": "https://localhost:8080/"
        },
        "id": "lC567Vcz120c",
        "outputId": "ea8433b2-8de0-4499-e6a4-340aa2b35682"
      },
      "execution_count": null,
      "outputs": [
        {
          "output_type": "execute_result",
          "data": {
            "text/plain": [
              "array([ 1. ,  2. ,  3. , -0.5,  0. ,  0. , -3. , -3. , -3. ])"
            ]
          },
          "metadata": {},
          "execution_count": 130
        }
      ]
    },
    {
      "cell_type": "code",
      "source": [
        "np.insert(a, 1, 5)"
      ],
      "metadata": {
        "colab": {
          "base_uri": "https://localhost:8080/"
        },
        "id": "SlnLYWrg2TSX",
        "outputId": "fe23857c-559b-4f7b-f1ca-d74079d2fe6f"
      },
      "execution_count": null,
      "outputs": [
        {
          "output_type": "execute_result",
          "data": {
            "text/plain": [
              "array([1, 5, 2, 3])"
            ]
          },
          "metadata": {},
          "execution_count": 132
        }
      ]
    },
    {
      "cell_type": "code",
      "source": [
        "np.delete(a,[1])"
      ],
      "metadata": {
        "colab": {
          "base_uri": "https://localhost:8080/"
        },
        "id": "eP6vIixv2Vu1",
        "outputId": "b5d2bf76-b755-4a81-e51a-017c40725e84"
      },
      "execution_count": null,
      "outputs": [
        {
          "output_type": "execute_result",
          "data": {
            "text/plain": [
              "array([1, 3])"
            ]
          },
          "metadata": {},
          "execution_count": 133
        }
      ]
    },
    {
      "cell_type": "code",
      "source": [
        "d = np.arange(10,25,5) #10,15,20\n",
        "np.concatenate((a,d),axis=0) #連接"
      ],
      "metadata": {
        "colab": {
          "base_uri": "https://localhost:8080/"
        },
        "id": "7OVAu3pYx5wi",
        "outputId": "d71bcca1-d1bf-4c99-df21-63e8263784a2"
      },
      "execution_count": null,
      "outputs": [
        {
          "output_type": "execute_result",
          "data": {
            "text/plain": [
              "array([ 1,  2,  3, 10, 15, 20])"
            ]
          },
          "metadata": {},
          "execution_count": 136
        }
      ]
    },
    {
      "cell_type": "code",
      "source": [
        "np.vstack((a,b))  #堆疊"
      ],
      "metadata": {
        "colab": {
          "base_uri": "https://localhost:8080/"
        },
        "id": "_pkmByBw2gmH",
        "outputId": "0005941b-7d12-4916-eb4c-6d959a560a24"
      },
      "execution_count": null,
      "outputs": [
        {
          "output_type": "execute_result",
          "data": {
            "text/plain": [
              "array([[1. , 2. , 3. ],\n",
              "       [1.5, 2. , 3. ],\n",
              "       [4. , 5. , 6. ]])"
            ]
          },
          "metadata": {},
          "execution_count": 137
        }
      ]
    },
    {
      "cell_type": "code",
      "source": [
        "#陣列維度轉換(一維轉二維)\n",
        "aa = np.arange(16)\n",
        "print(aa)\n",
        "bb= aa.reshape((4,4))\n",
        "print(bb)"
      ],
      "metadata": {
        "colab": {
          "base_uri": "https://localhost:8080/"
        },
        "id": "h8wpBwHqFQXL",
        "outputId": "4218e95e-6044-48ba-f0ea-810756a3ed1d"
      },
      "execution_count": null,
      "outputs": [
        {
          "output_type": "stream",
          "name": "stdout",
          "text": [
            "[ 0  1  2  3  4  5  6  7  8  9 10 11 12 13 14 15]\n",
            "[[ 0  1  2  3]\n",
            " [ 4  5  6  7]\n",
            " [ 8  9 10 11]\n",
            " [12 13 14 15]]\n"
          ]
        }
      ]
    },
    {
      "cell_type": "code",
      "source": [
        "import numpy as np\n",
        "arr = np.array([1, 2, 3, 4, 5])\n",
        "print(np.mean(arr))  # 計算均值\n",
        "matrix = np.random.rand(3, 3)\n",
        "print(np.linalg.inv(matrix))  # 矩陣求逆\n",
        "import pandas as pd\n",
        "df = pd.read_csv(\"data.csv\")\n",
        "df.fillna(0, inplace=True)  # 填補缺失值\n",
        "df['new_feature'] = df['feature1'] / df['feature2']  # 創建新特徵\n",
        "summary = df.groupby('category').mean()  # 分組並計算平均值\n",
        "print(summary)\n",
        "from sklearn.model_selection import train_test_split\n",
        "from sklearn.ensemble import RandomForestClassifier\n",
        "from sklearn.metrics import accuracy_score\n",
        "\n",
        "X_train, X_test, y_train, y_test = train_test_split(X, y, test_size=0.2)\n",
        "clf = RandomForestClassifier()\n",
        "clf.fit(X_train, y_train)\n",
        "y_pred = clf.predict(X_test)\n",
        "accuracy = accuracy_score(y_test, y_pred)\n",
        "print(f\"模型準確度: {accuracy}\")\n"
      ],
      "metadata": {
        "id": "kZVrHXtnJNJR"
      },
      "execution_count": null,
      "outputs": []
    }
  ]
}
